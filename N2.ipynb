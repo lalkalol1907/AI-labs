{
 "cells": [
  {
   "cell_type": "code",
   "execution_count": 5,
   "metadata": {
    "ExecuteTime": {
     "end_time": "2023-09-23T11:15:59.565036600Z",
     "start_time": "2023-09-23T11:15:59.538415200Z"
    }
   },
   "outputs": [],
   "source": [
    "from numpy import *\n",
    "from pandas import *\n",
    "from sklearn.preprocessing import MinMaxScaler, StandardScaler"
   ]
  },
  {
   "cell_type": "code",
   "execution_count": 6,
   "metadata": {
    "ExecuteTime": {
     "end_time": "2023-09-23T11:15:59.637143300Z",
     "start_time": "2023-09-23T11:15:59.552526400Z"
    }
   },
   "outputs": [
    {
     "name": "stdout",
     "output_type": "stream",
     "text": [
      "<NumpyExtensionArray>\n",
      "[[0, 1, 0, 1, 0, 1, 0, 1], [1, 0, 1, 0, 1, 0, 1, 0], [0, 1, 0, 1, 0, 1, 0, 1],\n",
      " [1, 0, 1, 0, 1, 0, 1, 0], [0, 1, 0, 1, 0, 1, 0, 1], [1, 0, 1, 0, 1, 0, 1, 0],\n",
      " [0, 1, 0, 1, 0, 1, 0, 1], [1, 0, 1, 0, 1, 0, 1, 0]]\n",
      "Length: 8, dtype: object\n"
     ]
    }
   ],
   "source": [
    "# 1.3.1\n",
    "\n",
    "print(array([[0, 1] * 4, [1, 0] * 4] * 4))"
   ]
  },
  {
   "cell_type": "code",
   "execution_count": 7,
   "metadata": {
    "ExecuteTime": {
     "end_time": "2023-09-23T11:15:59.646271400Z",
     "start_time": "2023-09-23T11:15:59.567037100Z"
    }
   },
   "outputs": [
    {
     "name": "stdout",
     "output_type": "stream",
     "text": [
      "\n",
      "[0, 1, 2, 3, 4] \n",
      "[0, 1, 2, 3, 4] \n",
      "[0, 1, 2, 3, 4] \n",
      "[0, 1, 2, 3, 4] \n",
      "[0, 1, 2, 3, 4]\n"
     ]
    }
   ],
   "source": [
    "# 1.3.2\n",
    "\n",
    "print(*[f\"\\n{i}\" for i in [list(arange(5)) for _ in range(5)]])\n"
   ]
  },
  {
   "cell_type": "code",
   "execution_count": 8,
   "metadata": {
    "ExecuteTime": {
     "end_time": "2023-09-23T11:15:59.647271800Z",
     "start_time": "2023-09-23T11:15:59.583614200Z"
    }
   },
   "outputs": [
    {
     "name": "stdout",
     "output_type": "stream",
     "text": [
      "[[[0.62048315 0.86595129 0.31501986]\n",
      "  [0.95137511 0.04232712 0.67233313]\n",
      "  [0.54891612 0.3791767  0.44650086]]\n",
      "\n",
      " [[0.43583815 0.244001   0.06437712]\n",
      "  [0.81993056 0.68572503 0.84703247]\n",
      "  [0.22840812 0.95866495 0.19701248]]\n",
      "\n",
      " [[0.66966675 0.31957544 0.4390022 ]\n",
      "  [0.80879049 0.59631452 0.14313569]\n",
      "  [0.77312188 0.05700333 0.1980804 ]]]\n"
     ]
    }
   ],
   "source": [
    "# 1.3.3\n",
    "\n",
    "print(random.rand(3, 3, 3))"
   ]
  },
  {
   "cell_type": "code",
   "execution_count": 9,
   "metadata": {
    "ExecuteTime": {
     "end_time": "2023-09-23T11:15:59.647271800Z",
     "start_time": "2023-09-23T11:15:59.600072Z"
    }
   },
   "outputs": [
    {
     "name": "stdout",
     "output_type": "stream",
     "text": [
      "\n",
      "[1, 1, 1, 1, 1] \n",
      "[1, 0, 0, 0, 1] \n",
      "[1, 0, 0, 0, 1] \n",
      "[1, 0, 0, 0, 1] \n",
      "[1, 1, 1, 1, 1]\n"
     ]
    }
   ],
   "source": [
    "# 1.3.4\n",
    "\n",
    "print(*[f\"\\n{k}\" for k in [[0 if all([i > 0, i < len(arr) - 1, j > 0, j < len(arr) - 1]) else 1 for i in range(len(arr))] for j in range(len(arr))]]) if (any(arr := ones((5, 5), dtype=int))) else print(\"\")\n"
   ]
  },
  {
   "cell_type": "code",
   "execution_count": 10,
   "metadata": {
    "ExecuteTime": {
     "end_time": "2023-09-23T11:15:59.648271800Z",
     "start_time": "2023-09-23T11:15:59.613595400Z"
    }
   },
   "outputs": [
    {
     "name": "stdout",
     "output_type": "stream",
     "text": [
      "0.9128078333222305 0.8958947158759388 0.7946946813077139 0.5554179673933236 0.5503684563000055 0.39059234406214094 0.3541676202402786 0.14052152186957734 0.12904598990279748 0.00923272934096142\n"
     ]
    }
   ],
   "source": [
    "# 1.3.5\n",
    "\n",
    "print(*sort(random.rand(10))[::-1])\n"
   ]
  },
  {
   "cell_type": "code",
   "execution_count": 11,
   "metadata": {
    "ExecuteTime": {
     "end_time": "2023-09-23T11:15:59.649266Z",
     "start_time": "2023-09-23T11:15:59.631130600Z"
    }
   },
   "outputs": [
    {
     "name": "stdout",
     "output_type": "stream",
     "text": [
      "[[ 0  1  2  3  4  5]\n",
      " [ 6  7  8  9 10 11]\n",
      " [12 13 14 15 16 17]\n",
      " [18 19 20 21 22 23]\n",
      " [24 25 26 27 28 29]] \n",
      " (5, 6) 30 2\n"
     ]
    }
   ],
   "source": [
    "# 1.3.6\n",
    "\n",
    "print(arr := arange(30).reshape(5, 6), \"\\n\", arr.shape, arr.size, arr.ndim)\n",
    "\n"
   ]
  },
  {
   "cell_type": "code",
   "execution_count": 12,
   "metadata": {
    "ExecuteTime": {
     "end_time": "2023-09-23T11:15:59.769151900Z",
     "start_time": "2023-09-23T11:15:59.644267800Z"
    }
   },
   "outputs": [
    {
     "name": "stdout",
     "output_type": "stream",
     "text": [
      "1.4142135623730951\n"
     ]
    }
   ],
   "source": [
    "# 2.3.1\n",
    "\n",
    "print((((a := Series([0, 0], ['x', 'y']))['x'] - (b := Series([1, 1], ['x', 'y']))['x'])**2 + (a['y'] - b['y']) ** 2) ** 0.5)"
   ]
  },
  {
   "cell_type": "code",
   "execution_count": 13,
   "metadata": {
    "ExecuteTime": {
     "end_time": "2023-09-23T11:15:59.987809900Z",
     "start_time": "2023-09-23T11:15:59.661299800Z"
    }
   },
   "outputs": [
    {
     "data": {
      "text/plain": "         Date        Open        High         Low       Close   Adj Close  \\\n0  2021-09-27  145.470001  145.960007  143.820007  145.369995  143.707397   \n1  2021-09-28  143.250000  144.750000  141.690002  141.910004  140.286972   \n2  2021-09-29  142.470001  144.449997  142.029999  142.830002  141.196472   \n3  2021-09-30  143.660004  144.380005  141.279999  141.500000  139.881683   \n4  2021-10-01  141.899994  142.919998  139.110001  142.649994  141.018509   \n\n      Volume  \n0   74150700  \n1  108972300  \n2   74602000  \n3   89056700  \n4   94639600  ",
      "text/html": "<div>\n<style scoped>\n    .dataframe tbody tr th:only-of-type {\n        vertical-align: middle;\n    }\n\n    .dataframe tbody tr th {\n        vertical-align: top;\n    }\n\n    .dataframe thead th {\n        text-align: right;\n    }\n</style>\n<table border=\"1\" class=\"dataframe\">\n  <thead>\n    <tr style=\"text-align: right;\">\n      <th></th>\n      <th>Date</th>\n      <th>Open</th>\n      <th>High</th>\n      <th>Low</th>\n      <th>Close</th>\n      <th>Adj Close</th>\n      <th>Volume</th>\n    </tr>\n  </thead>\n  <tbody>\n    <tr>\n      <th>0</th>\n      <td>2021-09-27</td>\n      <td>145.470001</td>\n      <td>145.960007</td>\n      <td>143.820007</td>\n      <td>145.369995</td>\n      <td>143.707397</td>\n      <td>74150700</td>\n    </tr>\n    <tr>\n      <th>1</th>\n      <td>2021-09-28</td>\n      <td>143.250000</td>\n      <td>144.750000</td>\n      <td>141.690002</td>\n      <td>141.910004</td>\n      <td>140.286972</td>\n      <td>108972300</td>\n    </tr>\n    <tr>\n      <th>2</th>\n      <td>2021-09-29</td>\n      <td>142.470001</td>\n      <td>144.449997</td>\n      <td>142.029999</td>\n      <td>142.830002</td>\n      <td>141.196472</td>\n      <td>74602000</td>\n    </tr>\n    <tr>\n      <th>3</th>\n      <td>2021-09-30</td>\n      <td>143.660004</td>\n      <td>144.380005</td>\n      <td>141.279999</td>\n      <td>141.500000</td>\n      <td>139.881683</td>\n      <td>89056700</td>\n    </tr>\n    <tr>\n      <th>4</th>\n      <td>2021-10-01</td>\n      <td>141.899994</td>\n      <td>142.919998</td>\n      <td>139.110001</td>\n      <td>142.649994</td>\n      <td>141.018509</td>\n      <td>94639600</td>\n    </tr>\n  </tbody>\n</table>\n</div>"
     },
     "execution_count": 13,
     "metadata": {},
     "output_type": "execute_result"
    }
   ],
   "source": [
    "# 2.3.2\n",
    "\n",
    "(df := read_csv(\"https://query1.finance.yahoo.com/v7/finance/download/AAPL?period1=1632575268&period2=1664111268&interval=1d&events=history&includeAdjustedClose=true\")).head()"
   ]
  },
  {
   "cell_type": "code",
   "execution_count": 14,
   "metadata": {
    "ExecuteTime": {
     "end_time": "2023-09-23T11:16:00.048578600Z",
     "start_time": "2023-09-23T11:15:59.924076300Z"
    }
   },
   "outputs": [
    {
     "data": {
      "text/plain": "         Date        Open        High         Low       Close   Adj Close  \\\n0  2021-09-27  145.470001  145.960007  143.820007  145.369995  143.707397   \n1  2021-09-28  143.250000  144.750000  141.690002  141.910004  140.286972   \n2  2021-09-29  142.470001  144.449997  142.029999  142.830002  141.196472   \n\n      Volume  \n0   74150700  \n1  108972300  \n2   74602000  ",
      "text/html": "<div>\n<style scoped>\n    .dataframe tbody tr th:only-of-type {\n        vertical-align: middle;\n    }\n\n    .dataframe tbody tr th {\n        vertical-align: top;\n    }\n\n    .dataframe thead th {\n        text-align: right;\n    }\n</style>\n<table border=\"1\" class=\"dataframe\">\n  <thead>\n    <tr style=\"text-align: right;\">\n      <th></th>\n      <th>Date</th>\n      <th>Open</th>\n      <th>High</th>\n      <th>Low</th>\n      <th>Close</th>\n      <th>Adj Close</th>\n      <th>Volume</th>\n    </tr>\n  </thead>\n  <tbody>\n    <tr>\n      <th>0</th>\n      <td>2021-09-27</td>\n      <td>145.470001</td>\n      <td>145.960007</td>\n      <td>143.820007</td>\n      <td>145.369995</td>\n      <td>143.707397</td>\n      <td>74150700</td>\n    </tr>\n    <tr>\n      <th>1</th>\n      <td>2021-09-28</td>\n      <td>143.250000</td>\n      <td>144.750000</td>\n      <td>141.690002</td>\n      <td>141.910004</td>\n      <td>140.286972</td>\n      <td>108972300</td>\n    </tr>\n    <tr>\n      <th>2</th>\n      <td>2021-09-29</td>\n      <td>142.470001</td>\n      <td>144.449997</td>\n      <td>142.029999</td>\n      <td>142.830002</td>\n      <td>141.196472</td>\n      <td>74602000</td>\n    </tr>\n  </tbody>\n</table>\n</div>"
     },
     "metadata": {},
     "output_type": "display_data"
    },
    {
     "data": {
      "text/plain": "           Date        Open        High         Low       Close   Adj Close  \\\n248  2022-09-21  157.339996  158.740005  153.600006  153.720001  152.813461   \n249  2022-09-22  152.380005  154.470001  150.910004  152.740005  151.839233   \n250  2022-09-23  151.190002  151.470001  148.559998  150.429993  149.542847   \n\n        Volume  \n248  101696800  \n249   86652500  \n250   96029900  ",
      "text/html": "<div>\n<style scoped>\n    .dataframe tbody tr th:only-of-type {\n        vertical-align: middle;\n    }\n\n    .dataframe tbody tr th {\n        vertical-align: top;\n    }\n\n    .dataframe thead th {\n        text-align: right;\n    }\n</style>\n<table border=\"1\" class=\"dataframe\">\n  <thead>\n    <tr style=\"text-align: right;\">\n      <th></th>\n      <th>Date</th>\n      <th>Open</th>\n      <th>High</th>\n      <th>Low</th>\n      <th>Close</th>\n      <th>Adj Close</th>\n      <th>Volume</th>\n    </tr>\n  </thead>\n  <tbody>\n    <tr>\n      <th>248</th>\n      <td>2022-09-21</td>\n      <td>157.339996</td>\n      <td>158.740005</td>\n      <td>153.600006</td>\n      <td>153.720001</td>\n      <td>152.813461</td>\n      <td>101696800</td>\n    </tr>\n    <tr>\n      <th>249</th>\n      <td>2022-09-22</td>\n      <td>152.380005</td>\n      <td>154.470001</td>\n      <td>150.910004</td>\n      <td>152.740005</td>\n      <td>151.839233</td>\n      <td>86652500</td>\n    </tr>\n    <tr>\n      <th>250</th>\n      <td>2022-09-23</td>\n      <td>151.190002</td>\n      <td>151.470001</td>\n      <td>148.559998</td>\n      <td>150.429993</td>\n      <td>149.542847</td>\n      <td>96029900</td>\n    </tr>\n  </tbody>\n</table>\n</div>"
     },
     "metadata": {},
     "output_type": "display_data"
    },
    {
     "data": {
      "text/plain": "(251, 7)"
     },
     "metadata": {},
     "output_type": "display_data"
    },
    {
     "data": {
      "text/plain": "             Open        High         Low       Close   Adj Close  \\\ncount  251.000000  251.000000  251.000000  251.000000  251.000000   \nmean   158.428446  160.493387  156.568008  158.618048  157.251717   \nstd     12.505458   12.458429   12.381958   12.401045   12.270436   \nmin    130.070007  132.389999  129.039993  130.059998  129.113632   \n25%    148.754998  149.904998  147.470001  148.845001  147.582581   \n50%    159.589996  162.139999  156.720001  159.300003  157.972855   \n75%    169.385002  171.065002  167.300003  169.060005  167.774925   \nmax    182.630005  182.940002  179.119995  182.009995  180.190964   \n\n             Volume  \ncount  2.510000e+02  \nmean   8.871277e+07  \nstd    2.625930e+07  \nmin    4.100000e+07  \n25%    7.018920e+07  \n50%    8.347440e+07  \n75%    1.003336e+08  \nmax    1.954327e+08  ",
      "text/html": "<div>\n<style scoped>\n    .dataframe tbody tr th:only-of-type {\n        vertical-align: middle;\n    }\n\n    .dataframe tbody tr th {\n        vertical-align: top;\n    }\n\n    .dataframe thead th {\n        text-align: right;\n    }\n</style>\n<table border=\"1\" class=\"dataframe\">\n  <thead>\n    <tr style=\"text-align: right;\">\n      <th></th>\n      <th>Open</th>\n      <th>High</th>\n      <th>Low</th>\n      <th>Close</th>\n      <th>Adj Close</th>\n      <th>Volume</th>\n    </tr>\n  </thead>\n  <tbody>\n    <tr>\n      <th>count</th>\n      <td>251.000000</td>\n      <td>251.000000</td>\n      <td>251.000000</td>\n      <td>251.000000</td>\n      <td>251.000000</td>\n      <td>2.510000e+02</td>\n    </tr>\n    <tr>\n      <th>mean</th>\n      <td>158.428446</td>\n      <td>160.493387</td>\n      <td>156.568008</td>\n      <td>158.618048</td>\n      <td>157.251717</td>\n      <td>8.871277e+07</td>\n    </tr>\n    <tr>\n      <th>std</th>\n      <td>12.505458</td>\n      <td>12.458429</td>\n      <td>12.381958</td>\n      <td>12.401045</td>\n      <td>12.270436</td>\n      <td>2.625930e+07</td>\n    </tr>\n    <tr>\n      <th>min</th>\n      <td>130.070007</td>\n      <td>132.389999</td>\n      <td>129.039993</td>\n      <td>130.059998</td>\n      <td>129.113632</td>\n      <td>4.100000e+07</td>\n    </tr>\n    <tr>\n      <th>25%</th>\n      <td>148.754998</td>\n      <td>149.904998</td>\n      <td>147.470001</td>\n      <td>148.845001</td>\n      <td>147.582581</td>\n      <td>7.018920e+07</td>\n    </tr>\n    <tr>\n      <th>50%</th>\n      <td>159.589996</td>\n      <td>162.139999</td>\n      <td>156.720001</td>\n      <td>159.300003</td>\n      <td>157.972855</td>\n      <td>8.347440e+07</td>\n    </tr>\n    <tr>\n      <th>75%</th>\n      <td>169.385002</td>\n      <td>171.065002</td>\n      <td>167.300003</td>\n      <td>169.060005</td>\n      <td>167.774925</td>\n      <td>1.003336e+08</td>\n    </tr>\n    <tr>\n      <th>max</th>\n      <td>182.630005</td>\n      <td>182.940002</td>\n      <td>179.119995</td>\n      <td>182.009995</td>\n      <td>180.190964</td>\n      <td>1.954327e+08</td>\n    </tr>\n  </tbody>\n</table>\n</div>"
     },
     "metadata": {},
     "output_type": "display_data"
    },
    {
     "data": {
      "text/plain": "         Date        Open        High         Low       Close   Adj Close  \\\n1  2021-09-28  143.250000  144.750000  141.690002  141.910004  140.286972   \n2  2021-09-29  142.470001  144.449997  142.029999  142.830002  141.196472   \n\n      Volume  \n1  108972300  \n2   74602000  ",
      "text/html": "<div>\n<style scoped>\n    .dataframe tbody tr th:only-of-type {\n        vertical-align: middle;\n    }\n\n    .dataframe tbody tr th {\n        vertical-align: top;\n    }\n\n    .dataframe thead th {\n        text-align: right;\n    }\n</style>\n<table border=\"1\" class=\"dataframe\">\n  <thead>\n    <tr style=\"text-align: right;\">\n      <th></th>\n      <th>Date</th>\n      <th>Open</th>\n      <th>High</th>\n      <th>Low</th>\n      <th>Close</th>\n      <th>Adj Close</th>\n      <th>Volume</th>\n    </tr>\n  </thead>\n  <tbody>\n    <tr>\n      <th>1</th>\n      <td>2021-09-28</td>\n      <td>143.250000</td>\n      <td>144.750000</td>\n      <td>141.690002</td>\n      <td>141.910004</td>\n      <td>140.286972</td>\n      <td>108972300</td>\n    </tr>\n    <tr>\n      <th>2</th>\n      <td>2021-09-29</td>\n      <td>142.470001</td>\n      <td>144.449997</td>\n      <td>142.029999</td>\n      <td>142.830002</td>\n      <td>141.196472</td>\n      <td>74602000</td>\n    </tr>\n  </tbody>\n</table>\n</div>"
     },
     "metadata": {},
     "output_type": "display_data"
    },
    {
     "data": {
      "text/plain": "          Date        Open        High         Low       Close   Adj Close  \\\n54  2021-12-13  181.119995  182.130005  175.529999  175.740005  173.983643   \n64  2021-12-28  180.160004  181.330002  178.529999  179.289993  177.498154   \n69  2022-01-04  182.630005  182.940002  179.119995  179.699997  177.904053   \n\n       Volume  \n54  153237000  \n64   79144300  \n69   99310400  ",
      "text/html": "<div>\n<style scoped>\n    .dataframe tbody tr th:only-of-type {\n        vertical-align: middle;\n    }\n\n    .dataframe tbody tr th {\n        vertical-align: top;\n    }\n\n    .dataframe thead th {\n        text-align: right;\n    }\n</style>\n<table border=\"1\" class=\"dataframe\">\n  <thead>\n    <tr style=\"text-align: right;\">\n      <th></th>\n      <th>Date</th>\n      <th>Open</th>\n      <th>High</th>\n      <th>Low</th>\n      <th>Close</th>\n      <th>Adj Close</th>\n      <th>Volume</th>\n    </tr>\n  </thead>\n  <tbody>\n    <tr>\n      <th>54</th>\n      <td>2021-12-13</td>\n      <td>181.119995</td>\n      <td>182.130005</td>\n      <td>175.529999</td>\n      <td>175.740005</td>\n      <td>173.983643</td>\n      <td>153237000</td>\n    </tr>\n    <tr>\n      <th>64</th>\n      <td>2021-12-28</td>\n      <td>180.160004</td>\n      <td>181.330002</td>\n      <td>178.529999</td>\n      <td>179.289993</td>\n      <td>177.498154</td>\n      <td>79144300</td>\n    </tr>\n    <tr>\n      <th>69</th>\n      <td>2022-01-04</td>\n      <td>182.630005</td>\n      <td>182.940002</td>\n      <td>179.119995</td>\n      <td>179.699997</td>\n      <td>177.904053</td>\n      <td>99310400</td>\n    </tr>\n  </tbody>\n</table>\n</div>"
     },
     "metadata": {},
     "output_type": "display_data"
    }
   ],
   "source": [
    "# 2.3.3\n",
    "\n",
    "display(df.head(3), df.tail(3), df.shape, df.describe(), df.iloc[1:3], df[df[\"Open\"] >= 180])\n"
   ]
  },
  {
   "cell_type": "code",
   "execution_count": 15,
   "metadata": {
    "ExecuteTime": {
     "end_time": "2023-09-23T11:16:00.766063600Z",
     "start_time": "2023-09-23T11:15:59.971289Z"
    }
   },
   "outputs": [
    {
     "data": {
      "text/plain": "   sepal_length_cm  sepal_width_cm  petal_length_cm  petal_width_cm species\n0              5.1             3.5              1.4             0.2  setosa\n1              4.9             3.0              1.4             0.2  setosa\n2              4.7             3.2              1.3             0.2  setosa\n3              4.6             3.1              1.5             0.2  setosa\n4              5.0             3.6              1.4             0.2  setosa",
      "text/html": "<div>\n<style scoped>\n    .dataframe tbody tr th:only-of-type {\n        vertical-align: middle;\n    }\n\n    .dataframe tbody tr th {\n        vertical-align: top;\n    }\n\n    .dataframe thead th {\n        text-align: right;\n    }\n</style>\n<table border=\"1\" class=\"dataframe\">\n  <thead>\n    <tr style=\"text-align: right;\">\n      <th></th>\n      <th>sepal_length_cm</th>\n      <th>sepal_width_cm</th>\n      <th>petal_length_cm</th>\n      <th>petal_width_cm</th>\n      <th>species</th>\n    </tr>\n  </thead>\n  <tbody>\n    <tr>\n      <th>0</th>\n      <td>5.1</td>\n      <td>3.5</td>\n      <td>1.4</td>\n      <td>0.2</td>\n      <td>setosa</td>\n    </tr>\n    <tr>\n      <th>1</th>\n      <td>4.9</td>\n      <td>3.0</td>\n      <td>1.4</td>\n      <td>0.2</td>\n      <td>setosa</td>\n    </tr>\n    <tr>\n      <th>2</th>\n      <td>4.7</td>\n      <td>3.2</td>\n      <td>1.3</td>\n      <td>0.2</td>\n      <td>setosa</td>\n    </tr>\n    <tr>\n      <th>3</th>\n      <td>4.6</td>\n      <td>3.1</td>\n      <td>1.5</td>\n      <td>0.2</td>\n      <td>setosa</td>\n    </tr>\n    <tr>\n      <th>4</th>\n      <td>5.0</td>\n      <td>3.6</td>\n      <td>1.4</td>\n      <td>0.2</td>\n      <td>setosa</td>\n    </tr>\n  </tbody>\n</table>\n</div>"
     },
     "metadata": {},
     "output_type": "display_data"
    },
    {
     "data": {
      "text/plain": "   sepal_length_cm  sepal_width_cm  petal_length_cm  petal_width_cm species\n0         0.222222       -0.900681              1.4             0.2  setosa\n1         0.166667       -1.143017              1.4             0.2  setosa\n2         0.111111       -1.385353              1.3             0.2  setosa\n3         0.083333       -1.506521              1.5             0.2  setosa\n4         0.194444       -1.021849              1.4             0.2  setosa",
      "text/html": "<div>\n<style scoped>\n    .dataframe tbody tr th:only-of-type {\n        vertical-align: middle;\n    }\n\n    .dataframe tbody tr th {\n        vertical-align: top;\n    }\n\n    .dataframe thead th {\n        text-align: right;\n    }\n</style>\n<table border=\"1\" class=\"dataframe\">\n  <thead>\n    <tr style=\"text-align: right;\">\n      <th></th>\n      <th>sepal_length_cm</th>\n      <th>sepal_width_cm</th>\n      <th>petal_length_cm</th>\n      <th>petal_width_cm</th>\n      <th>species</th>\n    </tr>\n  </thead>\n  <tbody>\n    <tr>\n      <th>0</th>\n      <td>0.222222</td>\n      <td>-0.900681</td>\n      <td>1.4</td>\n      <td>0.2</td>\n      <td>setosa</td>\n    </tr>\n    <tr>\n      <th>1</th>\n      <td>0.166667</td>\n      <td>-1.143017</td>\n      <td>1.4</td>\n      <td>0.2</td>\n      <td>setosa</td>\n    </tr>\n    <tr>\n      <th>2</th>\n      <td>0.111111</td>\n      <td>-1.385353</td>\n      <td>1.3</td>\n      <td>0.2</td>\n      <td>setosa</td>\n    </tr>\n    <tr>\n      <th>3</th>\n      <td>0.083333</td>\n      <td>-1.506521</td>\n      <td>1.5</td>\n      <td>0.2</td>\n      <td>setosa</td>\n    </tr>\n    <tr>\n      <th>4</th>\n      <td>0.194444</td>\n      <td>-1.021849</td>\n      <td>1.4</td>\n      <td>0.2</td>\n      <td>setosa</td>\n    </tr>\n  </tbody>\n</table>\n</div>"
     },
     "execution_count": 15,
     "metadata": {},
     "output_type": "execute_result"
    }
   ],
   "source": [
    "# 3.3.2\n",
    "\n",
    "display((arr := read_csv(\"https://raw.githubusercontent.com/akmand/datasets/master/iris.csv\")).head(5))\n",
    "\n",
    "arr[['sepal_length_cm']] = MinMaxScaler().fit_transform(arr[['sepal_length_cm']])\n",
    "arr[['sepal_width_cm']] = StandardScaler().fit_transform(arr[['sepal_length_cm']])\n",
    "\n",
    "arr.head(5)\n"
   ]
  },
  {
   "cell_type": "code",
   "execution_count": 15,
   "metadata": {
    "ExecuteTime": {
     "end_time": "2023-09-23T11:16:00.766063600Z",
     "start_time": "2023-09-23T11:16:00.298062300Z"
    }
   },
   "outputs": [],
   "source": []
  },
  {
   "cell_type": "code",
   "execution_count": 15,
   "metadata": {
    "ExecuteTime": {
     "end_time": "2023-09-23T11:16:00.767063300Z",
     "start_time": "2023-09-23T11:16:00.315090800Z"
    }
   },
   "outputs": [],
   "source": []
  }
 ],
 "metadata": {
  "kernelspec": {
   "display_name": "Python 3",
   "language": "python",
   "name": "python3"
  },
  "language_info": {
   "codemirror_mode": {
    "name": "ipython",
    "version": 3
   },
   "file_extension": ".py",
   "mimetype": "text/x-python",
   "name": "python",
   "nbconvert_exporter": "python",
   "pygments_lexer": "ipython3",
   "version": "3.10.8"
  },
  "orig_nbformat": 4
 },
 "nbformat": 4,
 "nbformat_minor": 2
}
